{
 "cells": [
  {
   "cell_type": "code",
   "execution_count": 1,
   "metadata": {},
   "outputs": [],
   "source": [
    "import pandas as pd\n",
    "import matplotlib.pyplot as plt\n",
    "import math\n",
    "import numpy as np\n",
    "import seaborn as sns\n",
    "%matplotlib inline\n",
    "import os, time\n",
    "\n",
    "pd.set_option('display.max_columns', None)\n",
    "import plotly.express as px"
   ]
  },
  {
   "cell_type": "code",
   "execution_count": 2,
   "metadata": {},
   "outputs": [],
   "source": [
    "from IPython.display import HTML"
   ]
  },
  {
   "cell_type": "code",
   "execution_count": 3,
   "metadata": {},
   "outputs": [],
   "source": [
    "# pd.set_option('display.max_columns', None)\n",
    "# pd.set_option('display.max_rows', None)"
   ]
  },
  {
   "cell_type": "code",
   "execution_count": 4,
   "metadata": {},
   "outputs": [
    {
     "data": {
      "text/html": [
       "<div>\n",
       "<style scoped>\n",
       "    .dataframe tbody tr th:only-of-type {\n",
       "        vertical-align: middle;\n",
       "    }\n",
       "\n",
       "    .dataframe tbody tr th {\n",
       "        vertical-align: top;\n",
       "    }\n",
       "\n",
       "    .dataframe thead th {\n",
       "        text-align: right;\n",
       "    }\n",
       "</style>\n",
       "<table border=\"1\" class=\"dataframe\">\n",
       "  <thead>\n",
       "    <tr style=\"text-align: right;\">\n",
       "      <th></th>\n",
       "      <th>DSP_LOCN</th>\n",
       "      <th>Shelving</th>\n",
       "    </tr>\n",
       "  </thead>\n",
       "  <tbody>\n",
       "    <tr>\n",
       "      <th>0</th>\n",
       "      <td>4S00010101</td>\n",
       "      <td>SHELVING</td>\n",
       "    </tr>\n",
       "    <tr>\n",
       "      <th>1</th>\n",
       "      <td>4S00010102</td>\n",
       "      <td>SHELVING</td>\n",
       "    </tr>\n",
       "    <tr>\n",
       "      <th>2</th>\n",
       "      <td>4S00010103</td>\n",
       "      <td>SHELVING</td>\n",
       "    </tr>\n",
       "    <tr>\n",
       "      <th>3</th>\n",
       "      <td>4S00010104</td>\n",
       "      <td>SHELVING</td>\n",
       "    </tr>\n",
       "    <tr>\n",
       "      <th>4</th>\n",
       "      <td>4S00010105</td>\n",
       "      <td>SHELVING</td>\n",
       "    </tr>\n",
       "  </tbody>\n",
       "</table>\n",
       "</div>"
      ],
      "text/plain": [
       "     DSP_LOCN  Shelving\n",
       "0  4S00010101  SHELVING\n",
       "1  4S00010102  SHELVING\n",
       "2  4S00010103  SHELVING\n",
       "3  4S00010104  SHELVING\n",
       "4  4S00010105  SHELVING"
      ]
     },
     "execution_count": 4,
     "metadata": {},
     "output_type": "execute_result"
    }
   ],
   "source": [
    "df_shelv = pd.read_excel('shelving.xlsx')\n",
    "df_shelv.rename(columns={'Location':'DSP_LOCN','Unnamed: 1':'Shelving'},inplace=True)\n",
    "df_shelv.head()"
   ]
  },
  {
   "cell_type": "code",
   "execution_count": 5,
   "metadata": {},
   "outputs": [
    {
     "data": {
      "text/html": [
       "<div>\n",
       "<style scoped>\n",
       "    .dataframe tbody tr th:only-of-type {\n",
       "        vertical-align: middle;\n",
       "    }\n",
       "\n",
       "    .dataframe tbody tr th {\n",
       "        vertical-align: top;\n",
       "    }\n",
       "\n",
       "    .dataframe thead th {\n",
       "        text-align: right;\n",
       "    }\n",
       "</style>\n",
       "<table border=\"1\" class=\"dataframe\">\n",
       "  <thead>\n",
       "    <tr style=\"text-align: right;\">\n",
       "      <th></th>\n",
       "      <th>ITEM_NAME</th>\n",
       "      <th>SALE_GRP</th>\n",
       "    </tr>\n",
       "  </thead>\n",
       "  <tbody>\n",
       "    <tr>\n",
       "      <th>0</th>\n",
       "      <td>S1442800</td>\n",
       "      <td>S</td>\n",
       "    </tr>\n",
       "    <tr>\n",
       "      <th>1</th>\n",
       "      <td>S1442801</td>\n",
       "      <td>S</td>\n",
       "    </tr>\n",
       "    <tr>\n",
       "      <th>2</th>\n",
       "      <td>S1532600</td>\n",
       "      <td>S</td>\n",
       "    </tr>\n",
       "    <tr>\n",
       "      <th>3</th>\n",
       "      <td>S1663800</td>\n",
       "      <td>S</td>\n",
       "    </tr>\n",
       "    <tr>\n",
       "      <th>4</th>\n",
       "      <td>S1663801</td>\n",
       "      <td>S</td>\n",
       "    </tr>\n",
       "  </tbody>\n",
       "</table>\n",
       "</div>"
      ],
      "text/plain": [
       "  ITEM_NAME SALE_GRP\n",
       "0  S1442800        S\n",
       "1  S1442801        S\n",
       "2  S1532600        S\n",
       "3  S1663800        S\n",
       "4  S1663801        S"
      ]
     },
     "execution_count": 5,
     "metadata": {},
     "output_type": "execute_result"
    }
   ],
   "source": [
    "df_S_NS = pd.read_csv('exportFG_FOC.csv')\n",
    "df_S_NS.head()"
   ]
  },
  {
   "cell_type": "code",
   "execution_count": 6,
   "metadata": {},
   "outputs": [
    {
     "data": {
      "text/html": [
       "<div>\n",
       "<style scoped>\n",
       "    .dataframe tbody tr th:only-of-type {\n",
       "        vertical-align: middle;\n",
       "    }\n",
       "\n",
       "    .dataframe tbody tr th {\n",
       "        vertical-align: top;\n",
       "    }\n",
       "\n",
       "    .dataframe thead th {\n",
       "        text-align: right;\n",
       "    }\n",
       "</style>\n",
       "<table border=\"1\" class=\"dataframe\">\n",
       "  <thead>\n",
       "    <tr style=\"text-align: right;\">\n",
       "      <th></th>\n",
       "      <th>DSP_LOCN</th>\n",
       "      <th>Level</th>\n",
       "      <th>Aisle</th>\n",
       "      <th>Bay</th>\n",
       "      <th>Side</th>\n",
       "      <th>Level.1</th>\n",
       "      <th>Position</th>\n",
       "      <th>HP/FP</th>\n",
       "      <th>FPE</th>\n",
       "      <th>Velocity</th>\n",
       "      <th>Loc</th>\n",
       "      <th>Arrow Direction</th>\n",
       "      <th>PICKING SEQ RACKING</th>\n",
       "      <th>PutAway Sequence RACKING</th>\n",
       "      <th>LOCN_CLASS</th>\n",
       "      <th>Active/Reserve</th>\n",
       "      <th>LENGTH</th>\n",
       "      <th>WIDTH</th>\n",
       "      <th>HEIGTH</th>\n",
       "      <th>Code(Reserve Loc)</th>\n",
       "      <th>Putaway Zone(Reserve Loc)</th>\n",
       "      <th>countif</th>\n",
       "      <th>Unnamed: 22</th>\n",
       "    </tr>\n",
       "  </thead>\n",
       "  <tbody>\n",
       "    <tr>\n",
       "      <th>0</th>\n",
       "      <td>4P02011001</td>\n",
       "      <td>4</td>\n",
       "      <td>2</td>\n",
       "      <td>1</td>\n",
       "      <td>Odd</td>\n",
       "      <td>10</td>\n",
       "      <td>1</td>\n",
       "      <td>FP</td>\n",
       "      <td>1.0</td>\n",
       "      <td>B</td>\n",
       "      <td>4-P-02-01-10-01</td>\n",
       "      <td>UP</td>\n",
       "      <td>PK00001</td>\n",
       "      <td>NaN</td>\n",
       "      <td>R</td>\n",
       "      <td>Reserve</td>\n",
       "      <td>120</td>\n",
       "      <td>100</td>\n",
       "      <td>120</td>\n",
       "      <td>OVR</td>\n",
       "      <td>SG9LTOVR-OVERFLOW</td>\n",
       "      <td>1</td>\n",
       "      <td>NaN</td>\n",
       "    </tr>\n",
       "    <tr>\n",
       "      <th>1</th>\n",
       "      <td>4P02011002</td>\n",
       "      <td>4</td>\n",
       "      <td>2</td>\n",
       "      <td>1</td>\n",
       "      <td>Odd</td>\n",
       "      <td>10</td>\n",
       "      <td>2</td>\n",
       "      <td>FP</td>\n",
       "      <td>1.0</td>\n",
       "      <td>B</td>\n",
       "      <td>4-P-02-01-10-02</td>\n",
       "      <td>UP</td>\n",
       "      <td>PK00002</td>\n",
       "      <td>NaN</td>\n",
       "      <td>R</td>\n",
       "      <td>Reserve</td>\n",
       "      <td>120</td>\n",
       "      <td>100</td>\n",
       "      <td>120</td>\n",
       "      <td>OVR</td>\n",
       "      <td>SG9LTOVR-OVERFLOW</td>\n",
       "      <td>1</td>\n",
       "      <td>NaN</td>\n",
       "    </tr>\n",
       "    <tr>\n",
       "      <th>2</th>\n",
       "      <td>4P02011003</td>\n",
       "      <td>4</td>\n",
       "      <td>2</td>\n",
       "      <td>1</td>\n",
       "      <td>Odd</td>\n",
       "      <td>10</td>\n",
       "      <td>3</td>\n",
       "      <td>FP</td>\n",
       "      <td>1.0</td>\n",
       "      <td>B</td>\n",
       "      <td>4-P-02-01-10-03</td>\n",
       "      <td>UP</td>\n",
       "      <td>PK00003</td>\n",
       "      <td>NaN</td>\n",
       "      <td>R</td>\n",
       "      <td>Reserve</td>\n",
       "      <td>120</td>\n",
       "      <td>100</td>\n",
       "      <td>120</td>\n",
       "      <td>OVR</td>\n",
       "      <td>SG9LTOVR-OVERFLOW</td>\n",
       "      <td>1</td>\n",
       "      <td>NaN</td>\n",
       "    </tr>\n",
       "    <tr>\n",
       "      <th>3</th>\n",
       "      <td>4P02011203</td>\n",
       "      <td>4</td>\n",
       "      <td>2</td>\n",
       "      <td>1</td>\n",
       "      <td>Odd</td>\n",
       "      <td>12</td>\n",
       "      <td>3</td>\n",
       "      <td>FP</td>\n",
       "      <td>1.0</td>\n",
       "      <td>B</td>\n",
       "      <td>4-P-02-01-12-03</td>\n",
       "      <td>UP</td>\n",
       "      <td>PK00004</td>\n",
       "      <td>NaN</td>\n",
       "      <td>R</td>\n",
       "      <td>Reserve</td>\n",
       "      <td>120</td>\n",
       "      <td>100</td>\n",
       "      <td>120</td>\n",
       "      <td>OVR</td>\n",
       "      <td>SG9LTOVR-OVERFLOW</td>\n",
       "      <td>1</td>\n",
       "      <td>NaN</td>\n",
       "    </tr>\n",
       "    <tr>\n",
       "      <th>4</th>\n",
       "      <td>4P02011202</td>\n",
       "      <td>4</td>\n",
       "      <td>2</td>\n",
       "      <td>1</td>\n",
       "      <td>Odd</td>\n",
       "      <td>12</td>\n",
       "      <td>2</td>\n",
       "      <td>FP</td>\n",
       "      <td>1.0</td>\n",
       "      <td>B</td>\n",
       "      <td>4-P-02-01-12-02</td>\n",
       "      <td>UP</td>\n",
       "      <td>PK00005</td>\n",
       "      <td>NaN</td>\n",
       "      <td>R</td>\n",
       "      <td>Reserve</td>\n",
       "      <td>120</td>\n",
       "      <td>100</td>\n",
       "      <td>120</td>\n",
       "      <td>OVR</td>\n",
       "      <td>SG9LTOVR-OVERFLOW</td>\n",
       "      <td>1</td>\n",
       "      <td>NaN</td>\n",
       "    </tr>\n",
       "  </tbody>\n",
       "</table>\n",
       "</div>"
      ],
      "text/plain": [
       "     DSP_LOCN  Level  Aisle  Bay Side  Level.1  Position HP/FP  FPE Velocity  \\\n",
       "0  4P02011001      4      2    1  Odd       10         1    FP  1.0        B   \n",
       "1  4P02011002      4      2    1  Odd       10         2    FP  1.0        B   \n",
       "2  4P02011003      4      2    1  Odd       10         3    FP  1.0        B   \n",
       "3  4P02011203      4      2    1  Odd       12         3    FP  1.0        B   \n",
       "4  4P02011202      4      2    1  Odd       12         2    FP  1.0        B   \n",
       "\n",
       "               Loc Arrow Direction PICKING SEQ RACKING  \\\n",
       "0  4-P-02-01-10-01              UP             PK00001   \n",
       "1  4-P-02-01-10-02              UP             PK00002   \n",
       "2  4-P-02-01-10-03              UP             PK00003   \n",
       "3  4-P-02-01-12-03              UP             PK00004   \n",
       "4  4-P-02-01-12-02              UP             PK00005   \n",
       "\n",
       "   PutAway Sequence RACKING LOCN_CLASS Active/Reserve  LENGTH  WIDTH  HEIGTH  \\\n",
       "0                       NaN          R        Reserve     120    100     120   \n",
       "1                       NaN          R        Reserve     120    100     120   \n",
       "2                       NaN          R        Reserve     120    100     120   \n",
       "3                       NaN          R        Reserve     120    100     120   \n",
       "4                       NaN          R        Reserve     120    100     120   \n",
       "\n",
       "  Code(Reserve Loc) Putaway Zone(Reserve Loc)  countif Unnamed: 22  \n",
       "0               OVR         SG9LTOVR-OVERFLOW        1         NaN  \n",
       "1               OVR         SG9LTOVR-OVERFLOW        1         NaN  \n",
       "2               OVR         SG9LTOVR-OVERFLOW        1         NaN  \n",
       "3               OVR         SG9LTOVR-OVERFLOW        1         NaN  \n",
       "4               OVR         SG9LTOVR-OVERFLOW        1         NaN  "
      ]
     },
     "execution_count": 6,
     "metadata": {},
     "output_type": "execute_result"
    }
   ],
   "source": [
    "df_FPE = pd.read_excel('FPE.xlsx')\n",
    "df_FPE.rename(columns={'DSP_LOCN':'Loc'},inplace=True)\n",
    "df_FPE.rename(columns={'Location':'DSP_LOCN'},inplace=True)\n",
    "df_FPE.head()"
   ]
  },
  {
   "cell_type": "code",
   "execution_count": null,
   "metadata": {},
   "outputs": [],
   "source": [
    "path = \"C:\\\\Users\\\\btg168\\\\Desktop\\\\Inventory reports test\\\\\"\n",
    "d_init={}\n",
    "\n",
    "for file in os.listdir(path):\n",
    "    d_init[file] = pd.read_excel(path+file)\n",
    "    d_init[file]['Date File created'] = time.ctime(os.path.getmtime(path+file))\n",
    "    d_init[file]['Date File created'] = pd.to_datetime(d_init[file]['Date File created'])\n",
    "    d_init[file]['Date File created'] = d_init[file]['Date File created'].dt.date\n"
   ]
  },
  {
   "cell_type": "code",
   "execution_count": null,
   "metadata": {},
   "outputs": [],
   "source": [
    "df_concat_raw = pd.concat(d_init.values())"
   ]
  },
  {
   "cell_type": "code",
   "execution_count": null,
   "metadata": {},
   "outputs": [],
   "source": [
    "df_concat.dtypes"
   ]
  },
  {
   "cell_type": "code",
   "execution_count": null,
   "metadata": {},
   "outputs": [],
   "source": [
    "df_concat_raw.shape"
   ]
  },
  {
   "cell_type": "code",
   "execution_count": null,
   "metadata": {},
   "outputs": [],
   "source": [
    "df_concat['DSP_LOCN'].unique()"
   ]
  },
  {
   "cell_type": "code",
   "execution_count": null,
   "metadata": {},
   "outputs": [],
   "source": [
    "df_concat_filtered = df_concat_raw.merge(df_shelv,on='DSP_LOCN',how='left')\n",
    "df_concat_filtered = df_concat_filtered.merge(df_S_NS,on='ITEM_NAME',how='left' )\n",
    "df_concat_filtered = df_concat_filtered.merge(df_FPE[['DSP_LOCN','HP/FP']],on='DSP_LOCN',how='left' )\n",
    "df_concat_filtered.dropna(subset=['DSP_LOCN'],inplace=True)\n",
    "df_concat_filtered[['REF_FIELD1']] = df_concat_filtered['REF_FIELD1'].replace(to_replace=\\\n",
    "                                                                          ['HR','R. LAUREN','URBAN DECAY','KERASTASE',\\\n",
    "                                                                           'SKINCEUTICALS','Martin MARGIELA','VICHY',\\\n",
    "                                                                           'Atelier Cologne','VIKTOR ET ROLF',\\\n",
    "                                                                           'ROCHE POSAY','HOUSE 99',\\\n",
    "                                                                           'IMARQUES INTER-DEPARTMENT','CLARISONIC']\\\n",
    "                                                                          ,value = 'Mixed Brands')\n",
    "df_concat_filtered['to keep'] = df_concat_filtered['DSP_LOCN'].apply(lambda x: False if len(x)-sum(c.isdigit() for c in x)>2 else True)\n",
    "df_concat_filtered = df_concat_filtered.loc[(df_concat_filtered.DSP_LOCN.str[:2] != 'LT')\\\n",
    "                                        & (df_concat_filtered['INVENTORY_TYPE']=='U') & (df_concat_filtered['ZINDEX']==1)\\\n",
    "                                        & (df_concat_filtered['Shelving'].isna()) & (df_concat_filtered['to keep']== True)\\\n",
    "                                        & (df_concat_filtered.DSP_LOCN.str[:1] == '4')\\\n",
    "                                        & (df_concat_filtered['REF_FIELD1'] != \"L'OREAL PARIS\")]\n",
    "df_concat_filtered = df_concat_filtered[['REF_FIELD1','DSP_LOCN','ITEM_NAME','SALE_GRP','Date File created','HP/FP']]"
   ]
  },
  {
   "cell_type": "markdown",
   "metadata": {},
   "source": [
    "# Evolution of brands' ratio occupancy over the time"
   ]
  },
  {
   "cell_type": "code",
   "execution_count": null,
   "metadata": {
    "scrolled": false
   },
   "outputs": [],
   "source": [
    "fig,axes = plt.subplots(len(df_concat_filtered['REF_FIELD1'].unique()),figsize=(12,30))\n",
    "fig.tight_layout(pad=7.0)\n",
    "i = 0\n",
    "\n",
    "for ref in list(df_concat_filtered['REF_FIELD1'].unique()):\n",
    "    df_plot = df_concat_filtered[df_concat_filtered['REF_FIELD1'] ==f'{ref}'].groupby(['REF_FIELD1','Date File created'])[['DSP_LOCN']].nunique().reset_index()\n",
    "    df_plot = df_plot[['REF_FIELD1','DSP_LOCN','Date File created']]\n",
    "    df_plot.plot(kind='bar',ax=axes[i],x='Date File created')\n",
    "    axes[i].set_xlabel('')\n",
    "    axes[i].axhline(y=df_plot['DSP_LOCN'].mean(), color='g',label = f\"average number of locations: {round(df_plot['DSP_LOCN'].mean())}\")\n",
    "    axes[i].legend(loc ='lower left')\n",
    "    axes[i].set_title(f\"{ref}\")\n",
    "    \n",
    "    i+=1\n",
    "    "
   ]
  },
  {
   "cell_type": "code",
   "execution_count": null,
   "metadata": {},
   "outputs": [],
   "source": [
    "data = {'Mixed Brands':[770*2],'BIOTHERM':[798+693]\\\n",
    "        ,'SHU UEMURA':[728+462],'YSL':[462+847+847],'G. ARMANI':[882+770],\\\n",
    "        'KIEHLS':[770+840+770+770+798],'LANCOME':[693+728+756+735+693+798+684],\"L'OREAL PARIS\":[846*2+539*2+756+692+315]}\n",
    "df_master = pd.DataFrame(data,columns=data.keys()).T\n",
    "df_master.reset_index(inplace=True)\n",
    "df_master.rename(columns={'index':'REF_FIELD1'},inplace=True)\n",
    "df_master.rename(columns={df_master.columns[-1]:'Max Occupancy'},inplace=True)\n",
    "#master from Vincent LAU\n",
    "# print('\\nMaster location from Vincent LAU')\n",
    "print('\\nMaster location from Vincent SIA \\nLocation wise (no FPE)')\n",
    "df_master"
   ]
  },
  {
   "cell_type": "code",
   "execution_count": null,
   "metadata": {
    "scrolled": false
   },
   "outputs": [],
   "source": [
    "fig,axes = plt.subplots(len(df_concat['REF_FIELD1'].unique()),figsize=(10,30))\n",
    "fig.tight_layout(pad=7.0)\n",
    "i = 0\n",
    "\n",
    "for ref in list(df_concat['REF_FIELD1'].unique()):\n",
    "    df_plot = df_concat[df_concat['REF_FIELD1'] =='{}'.format(ref)].groupby(['REF_FIELD1','Date File created'])[['DSP_LOCN']].nunique().reset_index()\n",
    "    df_plot = df_plot.merge(df_master, on='REF_FIELD1', how='left')\n",
    "    df_plot['Ratio'] = df_plot.apply(lambda x: x['DSP_LOCN']*100/x['Max Occupancy'], axis=1)\n",
    "    df_plot = df_plot[['REF_FIELD1','Ratio','Date File created']]\n",
    "    df_plot.plot(kind='bar',ax=axes[i],x='Date File created')\n",
    "    axes[i].set_xlabel('')\n",
    "    axes[i].axhline(y=100, color='r',label='100% occupancy')\n",
    "    axes[i].axhline(y=df_plot['Ratio'].mean(), color='g',label = f\"average occupancy: {round(df_plot['Ratio'].mean())} %\")\n",
    "    axes[i].legend(loc ='lower left')\n",
    "    axes[i].set_title(f\"{ref}\")\n",
    "    \n",
    "    i+=1\n",
    "    "
   ]
  },
  {
   "cell_type": "markdown",
   "metadata": {},
   "source": [
    "# Average ratio of occupancy of each brand"
   ]
  },
  {
   "cell_type": "code",
   "execution_count": null,
   "metadata": {},
   "outputs": [],
   "source": [
    "df = df_concat.copy()"
   ]
  },
  {
   "cell_type": "code",
   "execution_count": null,
   "metadata": {},
   "outputs": [],
   "source": [
    "df = df.groupby(['Date File created','REF_FIELD1'])[['DSP_LOCN']].nunique()\n",
    "df.rename(columns={'DSP_LOCN':'Nbr of loc'},inplace=True)\n",
    "df.reset_index(inplace=True)"
   ]
  },
  {
   "cell_type": "code",
   "execution_count": null,
   "metadata": {},
   "outputs": [],
   "source": [
    "df = df.groupby('REF_FIELD1')[['Nbr of loc']].mean()\n",
    "df = df.merge(df_master,on='REF_FIELD1', how='left')\n",
    "df['Average Ratio'] = round(df['Nbr of loc']*100/df['Max Occupancy'],1)\n",
    "df = df.sort_values(by='Average Ratio',ascending=False)\n",
    "df['Max Occupancy'] = pd.to_numeric(df['Max Occupancy'])\n",
    "df"
   ]
  },
  {
   "cell_type": "code",
   "execution_count": null,
   "metadata": {},
   "outputs": [],
   "source": [
    "df['85% occupancy'] = df['Max Occupancy']*0.85\n",
    "df['Nbr of loc to add'] = df[['Nbr of loc','85% occupancy']].apply(lambda x: x['Nbr of loc'] - x['85% occupancy'] if x['Nbr of loc'] - x['85% occupancy']>0 else 0, axis=1)\n",
    "df"
   ]
  },
  {
   "cell_type": "code",
   "execution_count": null,
   "metadata": {},
   "outputs": [],
   "source": [
    "df['Average Ratio'].mean()"
   ]
  },
  {
   "cell_type": "code",
   "execution_count": null,
   "metadata": {},
   "outputs": [],
   "source": [
    "df['Nbr of loc to remove'].sum()"
   ]
  }
 ],
 "metadata": {
  "kernelspec": {
   "display_name": "Python 3",
   "language": "python",
   "name": "python3"
  },
  "language_info": {
   "codemirror_mode": {
    "name": "ipython",
    "version": 3
   },
   "file_extension": ".py",
   "mimetype": "text/x-python",
   "name": "python",
   "nbconvert_exporter": "python",
   "pygments_lexer": "ipython3",
   "version": "3.7.6"
  }
 },
 "nbformat": 4,
 "nbformat_minor": 4
}
